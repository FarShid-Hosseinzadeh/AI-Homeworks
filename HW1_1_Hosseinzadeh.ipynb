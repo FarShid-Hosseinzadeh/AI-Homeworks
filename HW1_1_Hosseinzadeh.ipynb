{
  "nbformat": 4,
  "nbformat_minor": 0,
  "metadata": {
    "colab": {
      "provenance": [],
      "toc_visible": true
    },
    "kernelspec": {
      "name": "python3",
      "display_name": "Python 3"
    },
    "language_info": {
      "name": "python"
    }
  },
  "cells": [
    {
      "cell_type": "markdown",
      "source": [
        "# Question 1"
      ],
      "metadata": {
        "id": "DKCOzydTjEtq"
      }
    },
    {
      "cell_type": "code",
      "execution_count": null,
      "metadata": {
        "colab": {
          "base_uri": "https://localhost:8080/"
        },
        "id": "kcbUjkNRTPk3",
        "outputId": "f5b5ea2f-1ed4-46a0-86bb-eebc075aecd9"
      },
      "outputs": [
        {
          "output_type": "stream",
          "name": "stdout",
          "text": [
            "Enter your age: 21\n",
            "You are an adult.\n"
          ]
        }
      ],
      "source": [
        "age = int(input(\"Enter your age: \"))\n",
        "\n",
        "if age >= 18:\n",
        "    print(\"You are an adult.\")\n",
        "else:\n",
        "    print(\"You are a minor.\")"
      ]
    },
    {
      "cell_type": "markdown",
      "source": [
        "# Question 2"
      ],
      "metadata": {
        "id": "9_lk1QzKlGT3"
      }
    },
    {
      "cell_type": "code",
      "source": [
        "for number in range(1, 11):\n",
        "    print(number)"
      ],
      "metadata": {
        "colab": {
          "base_uri": "https://localhost:8080/"
        },
        "id": "w0Gl061dlPb0",
        "outputId": "dac91245-4217-41e5-b8c4-1f271f340740"
      },
      "execution_count": null,
      "outputs": [
        {
          "output_type": "stream",
          "name": "stdout",
          "text": [
            "1\n",
            "2\n",
            "3\n",
            "4\n",
            "5\n",
            "6\n",
            "7\n",
            "8\n",
            "9\n",
            "10\n"
          ]
        }
      ]
    },
    {
      "cell_type": "markdown",
      "source": [
        "# Question 3"
      ],
      "metadata": {
        "id": "oKw2eSL3ml3e"
      }
    },
    {
      "cell_type": "code",
      "source": [
        "num = 2\n",
        "sum = 0\n",
        "\n",
        "while num <= 20:\n",
        "    sum += num\n",
        "    num += 2\n",
        "\n",
        "print(\"The sum of even numbers from 1 to 20 is:\", sum)"
      ],
      "metadata": {
        "colab": {
          "base_uri": "https://localhost:8080/"
        },
        "id": "y0DVIByAmpcT",
        "outputId": "a4ea9233-84c5-47b0-bb08-565d3326bc97"
      },
      "execution_count": null,
      "outputs": [
        {
          "output_type": "stream",
          "name": "stdout",
          "text": [
            "The sum of even numbers from 1 to 20 is: 110\n"
          ]
        }
      ]
    },
    {
      "cell_type": "markdown",
      "source": [
        "# Question 4"
      ],
      "metadata": {
        "id": "1mcm4sVWnQhI"
      }
    },
    {
      "cell_type": "code",
      "source": [
        "def multiply(x, y):\n",
        "    product = x * y\n",
        "    return product"
      ],
      "metadata": {
        "id": "vR0lYWkRnTMc"
      },
      "execution_count": null,
      "outputs": []
    },
    {
      "cell_type": "markdown",
      "source": [
        "# Question 5"
      ],
      "metadata": {
        "id": "tQ4X5wURoyhT"
      }
    },
    {
      "cell_type": "code",
      "source": [
        "class Person:\n",
        "    def __init__(self, name, age):\n",
        "        self.name = name\n",
        "        self.age = age\n",
        "\n",
        "person1 = Person(\"Farshid\", 21)\n",
        "\n",
        "print(\"Name:\", person1.name)\n",
        "print(\"Age:\", person1.age)\n"
      ],
      "metadata": {
        "id": "FIHhcLsTozBi",
        "colab": {
          "base_uri": "https://localhost:8080/"
        },
        "outputId": "25eb4c9c-9437-4a06-e8e5-bb68ddf425ae"
      },
      "execution_count": null,
      "outputs": [
        {
          "output_type": "stream",
          "name": "stdout",
          "text": [
            "Name: Farshid\n",
            "Age: 21\n"
          ]
        }
      ]
    },
    {
      "cell_type": "markdown",
      "source": [
        "# Question 6"
      ],
      "metadata": {
        "id": "GXPPZEcVo0WU"
      }
    },
    {
      "cell_type": "code",
      "source": [
        "class Person:\n",
        "    def __init__(self, name, age):\n",
        "        self.name = name\n",
        "        self.age = age\n",
        "\n",
        "class Student(Person):\n",
        "    def __init__(self, name, age, student_id):\n",
        "        super().__init__(name, age)\n",
        "        self.student_id = student_id\n",
        "\n",
        "student1 = Student(\"Farshid\", 21, \"9821203\")\n",
        "\n",
        "print(\"Name:\", student1.name)\n",
        "print(\"Age:\", student1.age)\n",
        "print(\"Student ID:\", student1.student_id)\n"
      ],
      "metadata": {
        "id": "mwa0iSNHo0_0",
        "colab": {
          "base_uri": "https://localhost:8080/"
        },
        "outputId": "cb2d355a-6628-4dd6-952b-ab2107150056"
      },
      "execution_count": null,
      "outputs": [
        {
          "output_type": "stream",
          "name": "stdout",
          "text": [
            "Name: Farshid\n",
            "Age: 21\n",
            "Student ID: 9821203\n"
          ]
        }
      ]
    },
    {
      "cell_type": "markdown",
      "source": [
        "# Question 7"
      ],
      "metadata": {
        "id": "yNea2VNd--uI"
      }
    },
    {
      "cell_type": "code",
      "source": [
        "def primeDetector(number):\n",
        "    if number <= 1:\n",
        "        return False\n",
        "\n",
        "    if number == 2:\n",
        "        return True\n",
        "\n",
        "    if number % 2 == 0:\n",
        "        return False\n",
        "\n",
        "    for divisor in range(3, int(number ** 0.5) + 1, 2):\n",
        "        if number % divisor == 0:\n",
        "            return False\n",
        "\n",
        "    return True\n",
        "\n",
        "user_input = int(input(\"Enter a number: \"))\n",
        "if primeDetector(user_input):\n",
        "    print(f\"{user_input} is a prime number.\")\n",
        "else:\n",
        "    print(f\"{user_input} is not a prime number.\")\n"
      ],
      "metadata": {
        "colab": {
          "base_uri": "https://localhost:8080/"
        },
        "id": "2Tz-zzVX_Co2",
        "outputId": "79508054-8ee8-4a31-9970-ec9cc533b57d"
      },
      "execution_count": null,
      "outputs": [
        {
          "output_type": "stream",
          "name": "stdout",
          "text": [
            "Enter a number: 8\n",
            "8 is not a prime number.\n"
          ]
        }
      ]
    },
    {
      "cell_type": "markdown",
      "source": [
        "# Question 8"
      ],
      "metadata": {
        "id": "nM-gYwUb_DWq"
      }
    },
    {
      "cell_type": "code",
      "source": [
        "def factorial(n):\n",
        "    if n == 0:\n",
        "        return 1\n",
        "    else:\n",
        "        return n * factorial(n - 1)\n",
        "\n",
        "user_input = int(input(\"Enter an integer: \"))\n",
        "if user_input < 0:\n",
        "    print(\"Factorial is not defined for negative numbers.\")\n",
        "else:\n",
        "    result = factorial(user_input)\n",
        "    print(f\"Factorial of {user_input} is {result}\")\n",
        "\n"
      ],
      "metadata": {
        "colab": {
          "base_uri": "https://localhost:8080/"
        },
        "id": "6eQg0-jB_Hgu",
        "outputId": "f7f1b3be-fd9c-441a-9ab6-940bf110bd2f"
      },
      "execution_count": null,
      "outputs": [
        {
          "output_type": "stream",
          "name": "stdout",
          "text": [
            "Enter an integer: 10\n",
            "Factorial of 10 is 3628800\n"
          ]
        }
      ]
    },
    {
      "cell_type": "markdown",
      "source": [
        "# Question 9"
      ],
      "metadata": {
        "id": "ELqqF4a2_H_M"
      }
    },
    {
      "cell_type": "code",
      "source": [
        "class Rectangle:\n",
        "    def __init__(self, width, height):\n",
        "        self.width = width\n",
        "        self.height = height\n",
        "\n",
        "    def calculate_area(self):\n",
        "        return self.width * self.height\n",
        "\n",
        "rectangle1 = Rectangle(2, 11)\n",
        "\n",
        "area = rectangle1.calculate_area()\n",
        "print(\"Area of the rectangle:\", area)\n"
      ],
      "metadata": {
        "colab": {
          "base_uri": "https://localhost:8080/"
        },
        "id": "OJmkTPYM_Ju4",
        "outputId": "00d7c863-093f-4f95-b560-525d45562eb7"
      },
      "execution_count": null,
      "outputs": [
        {
          "output_type": "stream",
          "name": "stdout",
          "text": [
            "Area of the rectangle: 22\n"
          ]
        }
      ]
    },
    {
      "cell_type": "markdown",
      "source": [
        "# Question 10"
      ],
      "metadata": {
        "id": "pQ0vXWxJ_KKe"
      }
    },
    {
      "cell_type": "code",
      "source": [
        "class Rectangle:\n",
        "    def __init__(self, width, height):\n",
        "        self.width = width\n",
        "        self.height = height\n",
        "\n",
        "    def calculate_area(self):\n",
        "        return self.width * self.height\n",
        "\n",
        "class Square(Rectangle):\n",
        "    def __init__(self, side_length):\n",
        "        super().__init__(side_length, side_length)\n",
        "\n",
        "    def calculate_perimeter(self):\n",
        "        return 4 * self.width\n",
        "\n",
        "square1 = Square(4)\n",
        "\n",
        "perimeter = square1.calculate_perimeter()\n",
        "print(\"Perimeter of the square:\", perimeter)\n"
      ],
      "metadata": {
        "colab": {
          "base_uri": "https://localhost:8080/"
        },
        "id": "RdCi7tep_LpQ",
        "outputId": "4e6132b0-ee3a-47ee-fda0-4f22ebcd1b01"
      },
      "execution_count": null,
      "outputs": [
        {
          "output_type": "stream",
          "name": "stdout",
          "text": [
            "Perimeter of the square: 16\n"
          ]
        }
      ]
    },
    {
      "cell_type": "markdown",
      "source": [
        "# Question 11"
      ],
      "metadata": {
        "id": "U52QvD-8_Nyt"
      }
    },
    {
      "cell_type": "code",
      "source": [
        "class Animal:\n",
        "    def __init__(self, name, species):\n",
        "        self.name = name\n",
        "        self.species = species\n",
        "\n",
        "    def speak(self):\n",
        "        print(\"The animal makes a sound.\")\n"
      ],
      "metadata": {
        "id": "-Yztp7An_QAl"
      },
      "execution_count": null,
      "outputs": []
    },
    {
      "cell_type": "markdown",
      "source": [
        "# Question 12"
      ],
      "metadata": {
        "id": "ZAw7542TG63z"
      }
    },
    {
      "cell_type": "code",
      "source": [
        "class Animal:\n",
        "    def __init__(self, name, species):\n",
        "        self.name = name\n",
        "        self.species = species\n",
        "\n",
        "    def speak(self):\n",
        "        print(\"The animal makes a sound.\")\n",
        "\n",
        "class Dog(Animal):\n",
        "    def __init__(self, name, breed):\n",
        "        super().__init__(name, species=\"Dog\")\n",
        "        self.breed = breed\n",
        "\n",
        "    def speak(self):\n",
        "        print(\"Woof!\")\n",
        "\n",
        "dog1 = Dog(\"Rex\", \"German\")\n",
        "\n",
        "dog1.speak()\n"
      ],
      "metadata": {
        "colab": {
          "base_uri": "https://localhost:8080/"
        },
        "id": "Dv05yVShG-0V",
        "outputId": "1d831ae7-3486-435e-c05a-bb0caf8b6cd4"
      },
      "execution_count": null,
      "outputs": [
        {
          "output_type": "stream",
          "name": "stdout",
          "text": [
            "Woof!\n"
          ]
        }
      ]
    },
    {
      "cell_type": "markdown",
      "source": [
        "# Question 13"
      ],
      "metadata": {
        "id": "q4Ss_YQ8G_HW"
      }
    },
    {
      "cell_type": "code",
      "source": [
        "class Animal:\n",
        "    def __init__(self, name, species):\n",
        "        self.name = name\n",
        "        self.species = species\n",
        "\n",
        "    def speak(self):\n",
        "        print(\"The animal makes a sound.\")\n",
        "\n",
        "class Dog(Animal):\n",
        "    def __init__(self, name, breed):\n",
        "        super().__init__(name, species=\"Dog\")\n",
        "        self.breed = breed\n",
        "\n",
        "    def speak(self):\n",
        "        print(\"Woof!\")\n",
        "\n",
        "class Cat(Animal):\n",
        "    def __init__(self, name, color):\n",
        "        super().__init__(name, species=\"Cat\")\n",
        "        self.color = color\n",
        "\n",
        "    def speak(self):\n",
        "        print(\"Meow!\")\n",
        "\n",
        "cat1 = Cat(\"Simba\", \"Orange\")\n",
        "\n",
        "cat1.speak()\n"
      ],
      "metadata": {
        "colab": {
          "base_uri": "https://localhost:8080/"
        },
        "id": "nucUARPXHBUM",
        "outputId": "4240dd07-5390-448b-c4d8-b322a049265e"
      },
      "execution_count": null,
      "outputs": [
        {
          "output_type": "stream",
          "name": "stdout",
          "text": [
            "Meow!\n"
          ]
        }
      ]
    },
    {
      "cell_type": "markdown",
      "source": [
        "# Question 14"
      ],
      "metadata": {
        "id": "H8yekscVHCFH"
      }
    },
    {
      "cell_type": "code",
      "source": [
        "class Animal:\n",
        "    def __init__(self, name, species):\n",
        "        self.name = name\n",
        "        self.species = species\n",
        "\n",
        "    def speak(self):\n",
        "        print(\"The animal makes a sound.\")\n",
        "\n",
        "class Dog(Animal):\n",
        "    def __init__(self, name, breed):\n",
        "        super().__init__(name, species=\"Dog\")\n",
        "        self.breed = breed\n",
        "\n",
        "    def speak(self):\n",
        "        print(\"Woof!\")\n",
        "\n",
        "class Cat(Animal):\n",
        "    def __init__(self, name, color):\n",
        "        super().__init__(name, species=\"Cat\")\n",
        "        self.color = color\n",
        "\n",
        "    def speak(self):\n",
        "        print(\"Meow!\")\n",
        "\n",
        "dog1 = Dog(\"Rex\", \"German\")\n",
        "cat1 = Cat(\"Simba\", \"Orange\")\n",
        "\n",
        "animal_list = [dog1, cat1]\n",
        "\n",
        "for animal in animal_list:\n",
        "    print(f\"{animal.name} the {animal.species} says:\")\n",
        "    animal.speak()\n",
        "    print()\n"
      ],
      "metadata": {
        "colab": {
          "base_uri": "https://localhost:8080/"
        },
        "id": "rpHLZJEyHEfh",
        "outputId": "e72c93af-2fee-446b-d479-e7a3d809dca0"
      },
      "execution_count": null,
      "outputs": [
        {
          "output_type": "stream",
          "name": "stdout",
          "text": [
            "Rex the Dog says:\n",
            "Woof!\n",
            "\n",
            "Simba the Cat says:\n",
            "Meow!\n",
            "\n"
          ]
        }
      ]
    }
  ]
}